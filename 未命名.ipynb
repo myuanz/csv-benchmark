{
 "cells": [
  {
   "cell_type": "code",
   "execution_count": 1,
   "id": "069c7535-987b-4da5-9f66-5e536330db49",
   "metadata": {},
   "outputs": [],
   "source": [
    "using Mmap;\n",
    "using BenchmarkTools"
   ]
  },
  {
   "cell_type": "code",
   "execution_count": 2,
   "id": "48a63cb7-428b-42a9-8644-dbe8fe875a7c",
   "metadata": {},
   "outputs": [
    {
     "data": {
      "text/plain": [
       "BenchmarkTools.Trial: 38 samples with 1 evaluation.\n",
       " Range \u001b[90m(\u001b[39m\u001b[36m\u001b[1mmin\u001b[22m\u001b[39m … \u001b[35mmax\u001b[39m\u001b[90m):  \u001b[39m\u001b[36m\u001b[1m125.205 ms\u001b[22m\u001b[39m … \u001b[35m155.307 ms\u001b[39m  \u001b[90m┊\u001b[39m GC \u001b[90m(\u001b[39mmin … max\u001b[90m): \u001b[39m4.23% … 3.85%\n",
       " Time  \u001b[90m(\u001b[39m\u001b[34m\u001b[1mmedian\u001b[22m\u001b[39m\u001b[90m):     \u001b[39m\u001b[34m\u001b[1m132.698 ms               \u001b[22m\u001b[39m\u001b[90m┊\u001b[39m GC \u001b[90m(\u001b[39mmedian\u001b[90m):    \u001b[39m3.78%\n",
       " Time  \u001b[90m(\u001b[39m\u001b[32m\u001b[1mmean\u001b[22m\u001b[39m ± \u001b[32mσ\u001b[39m\u001b[90m):   \u001b[39m\u001b[32m\u001b[1m134.819 ms\u001b[22m\u001b[39m ± \u001b[32m  7.562 ms\u001b[39m  \u001b[90m┊\u001b[39m GC \u001b[90m(\u001b[39mmean ± σ\u001b[90m):  \u001b[39m3.83% ± 0.38%\n",
       "\n",
       "  \u001b[39m \u001b[39m \u001b[39m \u001b[39m \u001b[39m \u001b[39m \u001b[39m \u001b[39m \u001b[39m \u001b[39m \u001b[39m▅\u001b[39m \u001b[39m \u001b[39m \u001b[39m \u001b[34m█\u001b[39m\u001b[39m \u001b[39m \u001b[39m \u001b[32m \u001b[39m\u001b[39m \u001b[39m \u001b[39m \u001b[39m \u001b[39m \u001b[39m \u001b[39m \u001b[39m \u001b[39m \u001b[39m \u001b[39m \u001b[39m \u001b[39m \u001b[39m \u001b[39m \u001b[39m \u001b[39m \u001b[39m \u001b[39m \u001b[39m \u001b[39m \u001b[39m \u001b[39m \u001b[39m \u001b[39m \u001b[39m \u001b[39m \u001b[39m \u001b[39m \u001b[39m \u001b[39m \u001b[39m \u001b[39m \u001b[39m \u001b[39m \u001b[39m \u001b[39m \u001b[39m \u001b[39m \u001b[39m \u001b[39m \u001b[39m \u001b[39m \n",
       "  \u001b[39m▅\u001b[39m▅\u001b[39m▁\u001b[39m▅\u001b[39m▁\u001b[39m▅\u001b[39m█\u001b[39m█\u001b[39m▅\u001b[39m█\u001b[39m█\u001b[39m▁\u001b[39m█\u001b[39m▅\u001b[39m▁\u001b[34m█\u001b[39m\u001b[39m▁\u001b[39m▁\u001b[39m▅\u001b[32m▁\u001b[39m\u001b[39m█\u001b[39m▁\u001b[39m▁\u001b[39m▅\u001b[39m▅\u001b[39m▅\u001b[39m▅\u001b[39m▁\u001b[39m▁\u001b[39m▅\u001b[39m▁\u001b[39m▅\u001b[39m▅\u001b[39m▁\u001b[39m▁\u001b[39m▁\u001b[39m▁\u001b[39m▁\u001b[39m▁\u001b[39m▁\u001b[39m▁\u001b[39m▁\u001b[39m▁\u001b[39m▁\u001b[39m▅\u001b[39m▁\u001b[39m▁\u001b[39m▁\u001b[39m▅\u001b[39m▁\u001b[39m▁\u001b[39m▁\u001b[39m▅\u001b[39m▁\u001b[39m▁\u001b[39m▅\u001b[39m▁\u001b[39m▁\u001b[39m▁\u001b[39m▁\u001b[39m▅\u001b[39m \u001b[39m▁\n",
       "  125 ms\u001b[90m           Histogram: frequency by time\u001b[39m          155 ms \u001b[0m\u001b[1m<\u001b[22m\n",
       "\n",
       " Memory estimate\u001b[90m: \u001b[39m\u001b[33m386.65 MiB\u001b[39m, allocs estimate\u001b[90m: \u001b[39m\u001b[33m3108\u001b[39m."
      ]
     },
     "execution_count": 2,
     "metadata": {},
     "output_type": "execute_result"
    }
   ],
   "source": [
    "\n",
    "function mmap_read(add)\n",
    "    open(\"COX3.txt\", \"r\") do io \n",
    "        m = Mmap.mmap(io);\n",
    "        start = 1;\n",
    "        endn = 1;\n",
    "        \n",
    "        n = length(m);\n",
    "        res = UInt64(0);\n",
    "        \n",
    "        while endn < n\n",
    "            endn = start + add\n",
    "            if endn > n\n",
    "                endn = n\n",
    "            end\n",
    "#             for i = m[start: endn]\n",
    "#                 res += i\n",
    "#             end\n",
    "            res += sum(m[start: endn])\n",
    "            start += add;\n",
    "#             print(start, ' ', endn, ' ', n, '\\n')\n",
    "        end\n",
    "        return res\n",
    "    end\n",
    "end\n",
    "@benchmark mmap_read(262144)"
   ]
  },
  {
   "cell_type": "code",
   "execution_count": 81,
   "id": "d56159e6-8960-4c5a-83dc-e26c3a155ce4",
   "metadata": {},
   "outputs": [
    {
     "name": "stdout",
     "output_type": "stream",
     "text": [
      "Variables\n",
      "  #self#\u001b[36m::Core.Const(mmap_read)\u001b[39m\n",
      "  add\u001b[36m::Int64\u001b[39m\n",
      "  #133\u001b[36m::var\"#133#134\"{Int64}\u001b[39m\n",
      "\n",
      "Body\u001b[36m::UInt64\u001b[39m\n",
      "\u001b[90m1 ─\u001b[39m %1 = Main.:(var\"#133#134\")\u001b[36m::Core.Const(var\"#133#134\")\u001b[39m\n",
      "\u001b[90m│  \u001b[39m %2 = Core.typeof(add)\u001b[36m::Core.Const(Int64)\u001b[39m\n",
      "\u001b[90m│  \u001b[39m %3 = Core.apply_type(%1, %2)\u001b[36m::Core.Const(var\"#133#134\"{Int64})\u001b[39m\n",
      "\u001b[90m│  \u001b[39m      (#133 = %new(%3, add))\n",
      "\u001b[90m│  \u001b[39m %5 = #133\u001b[36m::var\"#133#134\"{Int64}\u001b[39m\n",
      "\u001b[90m│  \u001b[39m %6 = Main.open(%5, \"COX3.txt\", \"r\")\u001b[36m::UInt64\u001b[39m\n",
      "\u001b[90m└──\u001b[39m      return %6\n"
     ]
    }
   ],
   "source": [
    "@code_warntype mmap_read(262144)"
   ]
  },
  {
   "cell_type": "code",
   "execution_count": 82,
   "id": "0cc1e6f2-8623-41d3-8d48-37ec736db32f",
   "metadata": {},
   "outputs": [
    {
     "name": "stdout",
     "output_type": "stream",
     "text": [
      "256 Trial(171.442 ms)\n",
      "512 Trial(149.473 ms)\n",
      "1024 Trial(141.044 ms)\n",
      "2048 Trial(182.733 ms)\n",
      "4096 Trial(140.640 ms)\n",
      "8192 Trial(123.067 ms)\n",
      "16384 Trial(117.485 ms)\n",
      "32768 Trial(111.474 ms)\n",
      "65536 Trial(107.893 ms)\n",
      "131072 Trial(106.077 ms)\n",
      "262144 Trial(104.172 ms)\n",
      "524288 Trial(107.406 ms)\n",
      "1048576 Trial(108.590 ms)\n",
      "2097152 Trial(112.181 ms)\n",
      "4194304 Trial(113.243 ms)\n",
      "8388608 Trial(130.191 ms)\n",
      "16777216 Trial(128.293 ms)\n",
      "33554432 Trial(271.157 ms)\n",
      "67108864 Trial(272.195 ms)\n",
      "134217728 Trial(259.667 ms)\n",
      "268435456 Trial(264.207 ms)\n",
      "536870912 Trial(267.036 ms)\n",
      "1073741824 Trial(249.665 ms)\n",
      "2147483648 Trial(250.030 ms)\n",
      "4294967296 Trial(255.934 ms)\n",
      "8589934592 Trial(256.114 ms)\n",
      "17179869184 Trial(262.672 ms)\n",
      "34359738368 Trial(247.551 ms)\n",
      "68719476736 Trial(272.188 ms)\n",
      "137438953472 Trial(252.977 ms)\n",
      "274877906944 Trial(252.414 ms)\n",
      "549755813888 Trial(254.096 ms)\n"
     ]
    }
   ],
   "source": [
    "add = 128\n",
    "\n",
    "for i = 1:32\n",
    "    add *= 2\n",
    "    res = @benchmark mmap_read(add)\n",
    "    println(add, ' ', res)\n",
    "end"
   ]
  }
 ],
 "metadata": {
  "kernelspec": {
   "display_name": "Julia 1.6.2",
   "language": "julia",
   "name": "julia-1.6"
  },
  "language_info": {
   "file_extension": ".jl",
   "mimetype": "application/julia",
   "name": "julia",
   "version": "1.6.2"
  }
 },
 "nbformat": 4,
 "nbformat_minor": 5
}
