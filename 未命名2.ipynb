{
 "cells": [
  {
   "cell_type": "code",
   "execution_count": 1,
   "metadata": {},
   "outputs": [
    {
     "name": "stderr",
     "output_type": "stream",
     "text": [
      "Gtk-Message: 17:51:32.409: Failed to load module \"xapp-gtk3-module\"\n",
      "Gtk-Message: 17:51:32.409: Failed to load module \"canberra-gtk-module\"\n"
     ]
    },
    {
     "data": {
      "text/plain": [
       "8"
      ]
     },
     "execution_count": 1,
     "metadata": {},
     "output_type": "execute_result"
    }
   ],
   "source": [
    "using Mmap\n",
    "using Match\n",
    "using BenchmarkTools\n",
    "using Profile\n",
    "using Distributed\n",
    "using TestImages, Images, ImageView\n",
    "using Profile\n",
    "using Dates\n",
    "Threads.nthreads()\n"
   ]
  },
  {
   "cell_type": "code",
   "execution_count": 2,
   "metadata": {},
   "outputs": [
    {
     "data": {
      "text/plain": [
       "mmap_readtoend (generic function with 1 method)"
      ]
     },
     "execution_count": 2,
     "metadata": {},
     "output_type": "execute_result"
    }
   ],
   "source": [
    "function readtoend()\n",
    "    res = UInt64(0)\n",
    "    f = open(\"./COX3.txt\", \"r\")\n",
    "    line = \"\"\n",
    "    while !eof(f)\n",
    "        line = readline(f)\n",
    "#         res += sum(line)\n",
    "    end\n",
    "    line\n",
    "end\n",
    "\n",
    "function mmap_readtoend(step::Int)\n",
    "    res = UInt64(0)\n",
    "    f = open(\"./COX3.txt\", \"r\")\n",
    "    m = Mmap.mmap(f)\n",
    "    block = zeros(UInt8, step)\n",
    "    s = 1\n",
    "    e = 1\n",
    "    l = length(m)\n",
    "    while e < l\n",
    "        e += step\n",
    "        if e > l\n",
    "            e = l\n",
    "        end\n",
    "        \n",
    "        res += sum(m[s: e])\n",
    "        s += step\n",
    "        \n",
    "    end\n",
    "    res\n",
    "end\n",
    "\n",
    "# @time readtoend()\n",
    "# @time mmap_readtoend(65536)"
   ]
  },
  {
   "cell_type": "code",
   "execution_count": 42,
   "metadata": {},
   "outputs": [
    {
     "data": {
      "text/plain": [
       "mmap_read_limit (generic function with 1 method)"
      ]
     },
     "execution_count": 42,
     "metadata": {},
     "output_type": "execute_result"
    }
   ],
   "source": [
    "function get_mmap()\n",
    "    f = open(\"/home/myuan/projects/data/T311-Gm42418.txt\", \"r\")\n",
    "#     f = open(\"/home/myuan/projects/data/T33-all.txt\", \"r\")\n",
    "#     f = open(\"./T33-head.txt\", \"r\")\n",
    "    m = Mmap.mmap(f)\n",
    "    m\n",
    "end\n",
    "\n",
    "function addx(x::UInt, n::UInt8)\n",
    "    return (x * 10 + n)::UInt\n",
    "end\n",
    "\n",
    "function mmap_read_limit(start_pos::Int, end_pos::Int)\n",
    "\n",
    "    m = get_mmap()\n",
    "    current_pos = start_pos\n",
    "    current_status = 1\n",
    "\n",
    "    l = length(m)\n",
    "    if end_pos === 0\n",
    "        end_pos = l\n",
    "    end\n",
    "\n",
    "    current_x = UInt(0)\n",
    "    current_y = UInt(0)\n",
    "    max_x = max_y = UInt(0)\n",
    "    min_x = min_y = typemax(UInt)\n",
    "\n",
    "    while current_pos < end_pos && current_pos < l\n",
    "        @inbounds current_char = m[current_pos]\n",
    "        if current_char === UInt8('\\t')\n",
    "            current_status += 1 \n",
    "        elseif current_char === UInt8('\\n')\n",
    "            current_status = 1\n",
    "            max_x = max(max_x, current_x)\n",
    "            max_y = max(max_y, current_y)\n",
    "            min_x = min(min_x, current_x)\n",
    "            min_y = min(min_y, current_y)\n",
    "            current_x = current_y = UInt(0)\n",
    "#             println(\"$max_x, $max_y, $min_x, $min_y\\n\")\n",
    "        else\n",
    "            if current_status === 1 \n",
    "                current_x = addx(current_x, current_char - UInt8('0'))::UInt\n",
    "            elseif current_status === 2\n",
    "                current_y = addx(current_y, current_char - UInt8('0'))::UInt\n",
    "            end\n",
    "\n",
    "        end\n",
    "\n",
    "\n",
    "        current_pos += 1\n",
    "    #     print(\"$current_pos, $current_status, $current_x, $current_y, $(Char(current_char))\\n\")\n",
    "    #     if current_pos > 30\n",
    "    #         break\n",
    "    #     end\n",
    "    end\n",
    "#     print(\"$current_pos, $current_status, $current_x, $current_y, $(Char(current_char))\\n\")\n",
    "    current_pos, max_x, max_y, min_x, min_y\n",
    "end"
   ]
  },
  {
   "cell_type": "code",
   "execution_count": 4,
   "metadata": {},
   "outputs": [],
   "source": [
    "# @benchmark mmap_read_limit(1, 0)"
   ]
  },
  {
   "cell_type": "code",
   "execution_count": 5,
   "metadata": {},
   "outputs": [],
   "source": [
    "# @time mmap_read_limit(1, 0)"
   ]
  },
  {
   "cell_type": "code",
   "execution_count": 6,
   "metadata": {
    "tags": []
   },
   "outputs": [],
   "source": [
    "# @code_warntype mmap_read_limit(1, 0)"
   ]
  },
  {
   "cell_type": "markdown",
   "metadata": {},
   "source": [
    "## 并行版本"
   ]
  },
  {
   "cell_type": "code",
   "execution_count": 7,
   "metadata": {},
   "outputs": [
    {
     "data": {
      "text/plain": [
       "find_line_end (generic function with 1 method)"
      ]
     },
     "execution_count": 7,
     "metadata": {},
     "output_type": "execute_result"
    }
   ],
   "source": [
    "function find_line_end_helper(m::Vector{UInt8}, start::Int)\n",
    "    \n",
    "    while start <= length(m)\n",
    "        if m[start] == UInt8('\\n')\n",
    "            break\n",
    "        else\n",
    "            start += 1\n",
    "        end\n",
    "    end\n",
    "    \n",
    "    return start\n",
    "end\n",
    "\n",
    "\n",
    "function find_line_end(m::Vector{UInt8}, chunk_size::Int)\n",
    "    l = length(m)\n",
    "    positions = Tuple{Int, Int}[]\n",
    "    start = 1\n",
    "    \n",
    "    single_size = floor(Int, l / chunk_size)\n",
    "    \n",
    "    for i = 1:chunk_size\n",
    "        new_start = start + single_size\n",
    "        if new_start > l\n",
    "            new_start = l\n",
    "        end\n",
    "        \n",
    "        new_start = find_line_end_helper(m, new_start)\n",
    "        \n",
    "        push!(positions, (start, new_start))\n",
    "        start = new_start + 1\n",
    "    end\n",
    "    positions\n",
    "end\n",
    "    "
   ]
  },
  {
   "cell_type": "code",
   "execution_count": 8,
   "metadata": {
    "tags": []
   },
   "outputs": [],
   "source": [
    "# @time find_line_end(get_mmap(), 1)\n",
    "# @code_warntype find_line_end(get_mmap(), 1)"
   ]
  },
  {
   "cell_type": "code",
   "execution_count": 9,
   "metadata": {},
   "outputs": [
    {
     "data": {
      "text/plain": [
       "mmap_read_limit_pmap (generic function with 1 method)"
      ]
     },
     "execution_count": 9,
     "metadata": {},
     "output_type": "execute_result"
    }
   ],
   "source": [
    "function mmap_read_limit_pmap(size::Int)\n",
    "    m = get_mmap()\n",
    "    line_ends = find_line_end(m, size)\n",
    "    pmap(i -> mmap_read_limit(i[1], i[2]), line_ends)\n",
    "end\n",
    "# @time mmap_read_limit_pmap(6)"
   ]
  },
  {
   "cell_type": "code",
   "execution_count": 10,
   "metadata": {},
   "outputs": [
    {
     "data": {
      "text/plain": [
       "mmap_read_limit_thr (generic function with 1 method)"
      ]
     },
     "execution_count": 10,
     "metadata": {},
     "output_type": "execute_result"
    }
   ],
   "source": [
    "function mmap_read_limit_thr(size::Int)\n",
    "    m = get_mmap()\n",
    "    line_ends = find_line_end(m, size)\n",
    "    max_x = max_y = UInt(0)\n",
    "    min_x = min_y = typemax(UInt)\n",
    "\n",
    "    Threads.@threads for i = line_ends\n",
    "        _, maxx, maxy, minx, miny = mmap_read_limit(i[1], i[2])\n",
    "        \n",
    "        max_x = max(max_x, maxx)\n",
    "        max_y = max(max_y, maxy)\n",
    "        min_x = min(min_x, minx)\n",
    "        min_y = min(min_y, miny)\n",
    "\n",
    "    end\n",
    "    max_x, max_y, min_x, min_y\n",
    "end\n",
    "\n"
   ]
  },
  {
   "cell_type": "code",
   "execution_count": 11,
   "metadata": {},
   "outputs": [],
   "source": [
    "# @time mmap_read_limit_thr(8)\n"
   ]
  },
  {
   "cell_type": "code",
   "execution_count": 12,
   "metadata": {},
   "outputs": [
    {
     "name": "stdout",
     "output_type": "stream",
     "text": [
      "  0.313062 seconds (120.60 k allocations: 7.665 MiB, 8.06% compilation time)\n"
     ]
    },
    {
     "data": {
      "text/plain": [
       "(0x000000000000ef3f, 0x000000000001d5ba, 0x0000000000000000, 0x0000000000003977)"
      ]
     },
     "execution_count": 12,
     "metadata": {},
     "output_type": "execute_result"
    }
   ],
   "source": [
    "bin_size = 50\n",
    "@time max_x, max_y, min_x, min_y = mmap_read_limit_thr(8)\n"
   ]
  },
  {
   "cell_type": "code",
   "execution_count": 44,
   "metadata": {
    "tags": []
   },
   "outputs": [
    {
     "name": "stdout",
     "output_type": "stream",
     "text": [
      "  0.297950 seconds (19 allocations: 4.940 MiB, 6.60% gc time)\n"
     ]
    },
    {
     "data": {
      "text/plain": [
       "0x000000000085b27a"
      ]
     },
     "execution_count": 44,
     "metadata": {},
     "output_type": "execute_result"
    }
   ],
   "source": [
    "function get_bin_value(v::UInt, bin_size::Int, min_v::UInt)::UInt\n",
    "    ceil(UInt, (v - min_v) / bin_size) \n",
    "end\n",
    "\n",
    "function get_zero_img(bin_size, max_y, min_y, max_x, min_x)\n",
    "    zeros(UInt16, get_bin_value(max_y, bin_size, min_y) + 1, get_bin_value(max_x, bin_size, min_x) + 1)\n",
    "end\n",
    "\n",
    "function mmap_get_bin_res_limit_res(start_pos::Int, end_pos::Int, max_x::UInt, max_y::UInt, min_x::UInt, min_y::UInt, bin_size::Int)\n",
    "    m = get_mmap()\n",
    "    current_pos = start_pos\n",
    "    current_status = 1\n",
    "\n",
    "    l = length(m)\n",
    "    if end_pos === 0\n",
    "        end_pos = l\n",
    "    end\n",
    "\n",
    "    current_x = UInt(0)\n",
    "    current_y = UInt(0)\n",
    "    current_count = UInt(0)\n",
    "    matrix = get_zero_img(bin_size, max_y, min_y, max_x, min_x)\n",
    "\n",
    "    while current_pos < end_pos && current_pos < l\n",
    "        current_char = m[current_pos]\n",
    "#         println(\"current_char: $current_char\")\n",
    "        if current_char === UInt8('\\t')\n",
    "            current_status += 1 \n",
    "        elseif current_char === UInt8('\\r')\n",
    "            \n",
    "        elseif current_char === UInt8('\\n')\n",
    "            current_status = 1\n",
    "            new_y = get_bin_value(current_y + 1, bin_size, min_y) \n",
    "            new_x = get_bin_value(current_x + 1, bin_size, min_x) \n",
    "#             println(\"$current_y, $current_x, $new_y, $new_x, $current_count\\n\")\n",
    "            \n",
    "#             try\n",
    "                matrix[new_y, new_x] += current_count\n",
    "#             catch e\n",
    "#                 println(e)\n",
    "#                 println(\"$current_y, $current_x, $new_y, $new_x, $current_count, l: $l, current_pos: $current_pos, end_pos: $end_pos\\n\")\n",
    "                 \n",
    "#             end\n",
    "            \n",
    "            current_count = current_x = current_y = UInt(0)\n",
    "#             println(\"$max_x, $max_y, $min_x, $min_y\\n\")\n",
    "        else\n",
    "            if current_status === 1 \n",
    "                current_x = addx(current_x, current_char - UInt8('0'))::UInt\n",
    "            elseif current_status === 2\n",
    "                current_y = addx(current_y, current_char - UInt8('0'))::UInt\n",
    "            elseif current_status === 3\n",
    "#                 println(\"$current_count, $(current_char - UInt8('0'))\")\n",
    "                current_count = addx(current_count, current_char - UInt8('0'))::UInt\n",
    "            end\n",
    "\n",
    "        end\n",
    "        current_pos += 1\n",
    "    end\n",
    "    matrix\n",
    "end\n",
    "\n",
    "@time t = mmap_get_bin_res_limit_res(1, 405206303, max_x, max_y, min_x, min_y, bin_size)\n",
    "# Profile.print(format=:flat)\n",
    "sum(t)"
   ]
  },
  {
   "cell_type": "code",
   "execution_count": 30,
   "metadata": {},
   "outputs": [
    {
     "data": {
      "text/plain": [
       "405206303"
      ]
     },
     "execution_count": 30,
     "metadata": {},
     "output_type": "execute_result"
    }
   ],
   "source": [
    "length(get_mmap())"
   ]
  },
  {
   "cell_type": "code",
   "execution_count": 40,
   "metadata": {},
   "outputs": [
    {
     "name": "stdout",
     "output_type": "stream",
     "text": [
      "start\n",
      "start\n",
      "start\n",
      "start\n",
      "start\n",
      "start\n",
      "start\n",
      "start\n",
      "start\n",
      "start\n",
      "start\n",
      "start\n",
      "start\n",
      "start\n",
      "start\n",
      "start\n",
      "start\n",
      "start\n",
      "start\n",
      "start\n",
      "start\n",
      "start\n"
     ]
    },
    {
     "data": {
      "text/plain": [
       "BenchmarkTools.Trial: 10 samples with 1 evaluation.\n",
       " Range \u001b[90m(\u001b[39m\u001b[36m\u001b[1mmin\u001b[22m\u001b[39m … \u001b[35mmax\u001b[39m\u001b[90m):  \u001b[39m\u001b[36m\u001b[1m438.996 ms\u001b[22m\u001b[39m … \u001b[35m644.021 ms\u001b[39m  \u001b[90m┊\u001b[39m GC \u001b[90m(\u001b[39mmin … max\u001b[90m): \u001b[39m0.00% … 0.83%\n",
       " Time  \u001b[90m(\u001b[39m\u001b[34m\u001b[1mmedian\u001b[22m\u001b[39m\u001b[90m):     \u001b[39m\u001b[34m\u001b[1m500.108 ms               \u001b[22m\u001b[39m\u001b[90m┊\u001b[39m GC \u001b[90m(\u001b[39mmedian\u001b[90m):    \u001b[39m0.00%\n",
       " Time  \u001b[90m(\u001b[39m\u001b[32m\u001b[1mmean\u001b[22m\u001b[39m ± \u001b[32mσ\u001b[39m\u001b[90m):   \u001b[39m\u001b[32m\u001b[1m517.937 ms\u001b[22m\u001b[39m ± \u001b[32m 56.646 ms\u001b[39m  \u001b[90m┊\u001b[39m GC \u001b[90m(\u001b[39mmean ± σ\u001b[90m):  \u001b[39m0.10% ± 0.26%\n",
       "\n",
       "  \u001b[39m▁\u001b[39m \u001b[39m \u001b[39m \u001b[39m \u001b[39m \u001b[39m \u001b[39m \u001b[39m \u001b[39m \u001b[39m \u001b[39m \u001b[39m \u001b[39m \u001b[39m \u001b[39m▁\u001b[39m▁\u001b[39m▁\u001b[34m█\u001b[39m\u001b[39m▁\u001b[39m \u001b[39m \u001b[39m \u001b[32m \u001b[39m\u001b[39m▁\u001b[39m \u001b[39m \u001b[39m \u001b[39m \u001b[39m \u001b[39m \u001b[39m \u001b[39m \u001b[39m \u001b[39m \u001b[39m \u001b[39m \u001b[39m \u001b[39m \u001b[39m \u001b[39m \u001b[39m \u001b[39m \u001b[39m▁\u001b[39m \u001b[39m \u001b[39m \u001b[39m \u001b[39m \u001b[39m \u001b[39m \u001b[39m \u001b[39m \u001b[39m \u001b[39m \u001b[39m \u001b[39m \u001b[39m \u001b[39m \u001b[39m \u001b[39m▁\u001b[39m \u001b[39m \n",
       "  \u001b[39m█\u001b[39m▁\u001b[39m▁\u001b[39m▁\u001b[39m▁\u001b[39m▁\u001b[39m▁\u001b[39m▁\u001b[39m▁\u001b[39m▁\u001b[39m▁\u001b[39m▁\u001b[39m▁\u001b[39m▁\u001b[39m▁\u001b[39m█\u001b[39m█\u001b[39m█\u001b[34m█\u001b[39m\u001b[39m█\u001b[39m▁\u001b[39m▁\u001b[39m▁\u001b[32m▁\u001b[39m\u001b[39m█\u001b[39m▁\u001b[39m▁\u001b[39m▁\u001b[39m▁\u001b[39m▁\u001b[39m▁\u001b[39m▁\u001b[39m▁\u001b[39m▁\u001b[39m▁\u001b[39m▁\u001b[39m▁\u001b[39m▁\u001b[39m▁\u001b[39m▁\u001b[39m▁\u001b[39m▁\u001b[39m▁\u001b[39m█\u001b[39m▁\u001b[39m▁\u001b[39m▁\u001b[39m▁\u001b[39m▁\u001b[39m▁\u001b[39m▁\u001b[39m▁\u001b[39m▁\u001b[39m▁\u001b[39m▁\u001b[39m▁\u001b[39m▁\u001b[39m▁\u001b[39m▁\u001b[39m▁\u001b[39m█\u001b[39m \u001b[39m▁\n",
       "  439 ms\u001b[90m           Histogram: frequency by time\u001b[39m          644 ms \u001b[0m\u001b[1m<\u001b[22m\n",
       "\n",
       " Memory estimate\u001b[90m: \u001b[39m\u001b[33m44.47 MiB\u001b[39m, allocs estimate\u001b[90m: \u001b[39m\u001b[33m338\u001b[39m."
      ]
     },
     "execution_count": 40,
     "metadata": {},
     "output_type": "execute_result"
    }
   ],
   "source": [
    "function mmap_get_bin_res_limit_thr(size::Int)\n",
    "    img = get_zero_img(bin_size, max_y, min_y, max_x, min_x)\n",
    "    m = get_mmap()\n",
    "    line_ends = find_line_end(m, size)\n",
    "    add_lock = Threads.Atomic{Int}(0)\n",
    "    println(\"start\")\n",
    "    \n",
    "    Threads.@threads for i = 1:size\n",
    "#         mmap_get_bin_res_limit(view(imgs, i, :, :), line_ends[i][1], line_ends[i][2], max_x, max_y, min_x, min_y, bin_size)\n",
    "        res = mmap_get_bin_res_limit_res(line_ends[i][1], line_ends[i][2], max_x, max_y, min_x, min_y, bin_size)\n",
    "#         waiting_time = 0.001\n",
    "#         while add_lock.value != 0\n",
    "#             println(\"$i is wating, current: $(add_lock.value)\")\n",
    "#             sleep(waiting_time)\n",
    "#             waiting_time += rand() / 1000\n",
    "#         end\n",
    "#         Threads.atomic_add!(add_lock, 1)\n",
    "#         println(\"$i got lock\")\n",
    "#         img += res\n",
    "#         Threads.atomic_add!(add_lock, -1)\n",
    "    end\n",
    "    \n",
    "#     for i = 1:size\n",
    "#         img += imgs[i, :, :]\n",
    "#     end\n",
    "    img\n",
    "#     sum(imgs, dims=1)[1, :, :]\n",
    "end\n",
    "\n",
    "@benchmark t = mmap_get_bin_res_limit_thr(8)\n",
    "# Profile.print()\n",
    "# sum(t)"
   ]
  }
 ],
 "metadata": {
  "kernelspec": {
   "display_name": "Julia 1.6.2",
   "language": "julia",
   "name": "julia-1.6"
  },
  "language_info": {
   "file_extension": ".jl",
   "mimetype": "application/julia",
   "name": "julia",
   "version": "1.6.2"
  }
 },
 "nbformat": 4,
 "nbformat_minor": 4
}
