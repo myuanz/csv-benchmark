{
 "cells": [
  {
   "cell_type": "code",
   "execution_count": 1,
   "metadata": {},
   "outputs": [
    {
     "data": {
      "text/plain": [
       "6"
      ]
     },
     "execution_count": 1,
     "metadata": {},
     "output_type": "execute_result"
    }
   ],
   "source": [
    "using Mmap\n",
    "using Match\n",
    "using BenchmarkTools\n",
    "using Profile\n",
    "using Distributed\n",
    "Threads.nthreads()\n"
   ]
  },
  {
   "cell_type": "code",
   "execution_count": 2,
   "metadata": {},
   "outputs": [
    {
     "name": "stdout",
     "output_type": "stream",
     "text": [
      "  2.982507 seconds (27.10 M allocations: 828.550 MiB, 2.37% gc time)\n",
      "  0.153480 seconds (12.38 k allocations: 387.347 MiB, 10.31% gc time)\n"
     ]
    },
    {
     "data": {
      "text/plain": [
       "0x00000003dd0aaeed"
      ]
     },
     "execution_count": 2,
     "metadata": {},
     "output_type": "execute_result"
    }
   ],
   "source": [
    "function readtoend()\n",
    "    res = UInt64(0)\n",
    "    f = open(\"./COX3.txt\", \"r\")\n",
    "    line = \"\"\n",
    "    while !eof(f)\n",
    "        line = readline(f)\n",
    "#         res += sum(line)\n",
    "    end\n",
    "    line\n",
    "end\n",
    "\n",
    "function mmap_readtoend(step::Int)\n",
    "    res = UInt64(0)\n",
    "    f = open(\"./COX3.txt\", \"r\")\n",
    "    m = Mmap.mmap(f)\n",
    "    block = zeros(UInt8, step)\n",
    "    s = 1\n",
    "    e = 1\n",
    "    l = length(m)\n",
    "    while e < l\n",
    "        e += step\n",
    "        if e > l\n",
    "            e = l\n",
    "        end\n",
    "        \n",
    "        res += sum(m[s: e])\n",
    "        s += step\n",
    "        \n",
    "    end\n",
    "    res\n",
    "end\n",
    "\n",
    "@time readtoend()\n",
    "@time mmap_readtoend(65536)"
   ]
  },
  {
   "cell_type": "code",
   "execution_count": 29,
   "metadata": {},
   "outputs": [
    {
     "data": {
      "text/plain": [
       "mmap_read_limit (generic function with 1 method)"
      ]
     },
     "execution_count": 29,
     "metadata": {},
     "output_type": "execute_result"
    }
   ],
   "source": [
    "function get_mmap()\n",
    "#     f = open(\"./COX3.txt\", \"r\")\n",
    "    f = open(\"/home/myuan/projects/data/T33-all.txt\", \"r\")\n",
    "    m = Mmap.mmap(f)\n",
    "    m\n",
    "end\n",
    "\n",
    "function addx(x::UInt, n::UInt8)\n",
    "    return (x * 10 + n)::UInt\n",
    "end\n",
    "\n",
    "function mmap_read_limit(start_pos::Int, end_pos::Int)\n",
    "\n",
    "    m = get_mmap()\n",
    "    current_pos = start_pos\n",
    "    current_status = 1\n",
    "\n",
    "    l = length(m)\n",
    "    if end_pos === 0\n",
    "        end_pos = l\n",
    "    end\n",
    "\n",
    "    current_x = UInt(0)\n",
    "    current_y = UInt(0)\n",
    "    max_x = max_y = UInt(0)\n",
    "    min_x = min_y = typemax(UInt)\n",
    "\n",
    "    while current_pos < end_pos && current_pos < l\n",
    "        @inbounds current_char = m[current_pos]\n",
    "        if current_char === UInt8('\\t')\n",
    "            current_status += 1 \n",
    "        elseif current_char === UInt8('\\n')\n",
    "            current_status = 1\n",
    "            max_x = max(max_x, current_x)\n",
    "            max_y = max(max_y, current_y)\n",
    "            min_x = min(min_x, current_x)\n",
    "            min_y = min(min_y, current_y)\n",
    "            current_x = current_y = UInt(0)\n",
    "    #         println(\"$max_x, $max_y, $min_x, $min_y\\n\")\n",
    "        else\n",
    "            if current_status === 1 \n",
    "                current_x = addx(current_x, current_char - UInt8('0'))::UInt\n",
    "            elseif current_status === 2\n",
    "                current_y = addx(current_y, current_char - UInt8('0'))::UInt\n",
    "            end\n",
    "\n",
    "        end\n",
    "\n",
    "\n",
    "        current_pos += 1\n",
    "    #     print(\"$current_pos, $current_status, $current_x, $current_y, $(Char(current_char))\\n\")\n",
    "    #     if current_pos > 30\n",
    "    #         break\n",
    "    #     end\n",
    "    end\n",
    "#     print(\"$current_pos, $current_status, $current_x, $current_y, $(Char(current_char))\\n\")\n",
    "    current_pos, max_x, max_y, min_x, min_y\n",
    "end"
   ]
  },
  {
   "cell_type": "code",
   "execution_count": null,
   "metadata": {},
   "outputs": [],
   "source": [
    "@benchmark mmap_read_limit(0, 0)"
   ]
  },
  {
   "cell_type": "code",
   "execution_count": 34,
   "metadata": {},
   "outputs": [
    {
     "name": "stdout",
     "output_type": "stream",
     "text": [
      " 40.871332 seconds (17 allocations: 1.062 KiB)\n"
     ]
    },
    {
     "data": {
      "text/plain": [
       "(22567501017, 0x001a3dec0b47de7a, 0x000000000000ef42, 0x0000000000000024, 0x0000000000000000)"
      ]
     },
     "execution_count": 34,
     "metadata": {},
     "output_type": "execute_result"
    }
   ],
   "source": [
    "@time mmap_read_limit(1, 0)"
   ]
  },
  {
   "cell_type": "code",
   "execution_count": 7,
   "metadata": {
    "collapsed": true,
    "jupyter": {
     "outputs_hidden": true
    },
    "tags": []
   },
   "outputs": [
    {
     "name": "stdout",
     "output_type": "stream",
     "text": [
      "Variables\n",
      "  #self#\u001b[36m::Core.Const(mmap_read_limit)\u001b[39m\n",
      "  start_pos\u001b[36m::Int64\u001b[39m\n",
      "  end_pos@_3\u001b[36m::Int64\u001b[39m\n",
      "  min_x\u001b[36m::UInt64\u001b[39m\n",
      "  min_y\u001b[36m::UInt64\u001b[39m\n",
      "  max_x\u001b[36m::UInt64\u001b[39m\n",
      "  max_y\u001b[36m::UInt64\u001b[39m\n",
      "  current_y\u001b[36m::UInt64\u001b[39m\n",
      "  current_x\u001b[36m::UInt64\u001b[39m\n",
      "  l\u001b[36m::Int64\u001b[39m\n",
      "  current_status\u001b[36m::Int64\u001b[39m\n",
      "  current_pos\u001b[36m::Int64\u001b[39m\n",
      "  m\u001b[36m::Vector{UInt8}\u001b[39m\n",
      "  val\u001b[36m::UInt8\u001b[39m\n",
      "  current_char\u001b[36m::UInt8\u001b[39m\n",
      "  end_pos@_16\u001b[36m::Int64\u001b[39m\n",
      "  @_17\u001b[36m::Bool\u001b[39m\n",
      "\n",
      "Body\u001b[36m::Tuple{Int64, UInt64, UInt64, UInt64, UInt64}\u001b[39m\n",
      "\u001b[90m1 ──\u001b[39m       (end_pos@_16 = end_pos@_3)\n",
      "\u001b[90m│   \u001b[39m       Core.NewvarNode(:(min_x))\n",
      "\u001b[90m│   \u001b[39m       Core.NewvarNode(:(min_y))\n",
      "\u001b[90m│   \u001b[39m       Core.NewvarNode(:(max_x))\n",
      "\u001b[90m│   \u001b[39m       Core.NewvarNode(:(max_y))\n",
      "\u001b[90m│   \u001b[39m       Core.NewvarNode(:(current_y))\n",
      "\u001b[90m│   \u001b[39m       Core.NewvarNode(:(current_x))\n",
      "\u001b[90m│   \u001b[39m       (m = Main.get_mmap())\n",
      "\u001b[90m│   \u001b[39m       (current_pos = start_pos)\n",
      "\u001b[90m│   \u001b[39m       (current_status = 1)\n",
      "\u001b[90m│   \u001b[39m       (l = Main.length(m))\n",
      "\u001b[90m│   \u001b[39m %12 = (end_pos@_16 === 0)\u001b[36m::Bool\u001b[39m\n",
      "\u001b[90m└───\u001b[39m       goto #3 if not %12\n",
      "\u001b[90m2 ──\u001b[39m       (end_pos@_16 = l)\n",
      "\u001b[90m3 ┄─\u001b[39m       (current_x = Main.UInt(0))\n",
      "\u001b[90m│   \u001b[39m       (current_y = Main.UInt(0))\n",
      "\u001b[90m│   \u001b[39m %17 = Main.UInt(0)\u001b[36m::Core.Const(0x0000000000000000)\u001b[39m\n",
      "\u001b[90m│   \u001b[39m       (max_y = %17)\n",
      "\u001b[90m│   \u001b[39m       (max_x = %17)\n",
      "\u001b[90m│   \u001b[39m %20 = Main.typemax(Main.UInt)\u001b[36m::Core.Const(0xffffffffffffffff)\u001b[39m\n",
      "\u001b[90m│   \u001b[39m       (min_y = %20)\n",
      "\u001b[90m└───\u001b[39m       (min_x = %20)\n",
      "\u001b[90m4 ┄─\u001b[39m %23 = (current_pos < end_pos@_16)\u001b[36m::Bool\u001b[39m\n",
      "\u001b[90m└───\u001b[39m       goto #6 if not %23\n",
      "\u001b[90m5 ──\u001b[39m       (@_17 = current_pos < l)\n",
      "\u001b[90m└───\u001b[39m       goto #7\n",
      "\u001b[90m6 ──\u001b[39m       (@_17 = false)\n",
      "\u001b[90m7 ┄─\u001b[39m       goto #17 if not @_17\n",
      "\u001b[90m8 ──\u001b[39m       $(Expr(:inbounds, true))\n",
      "\u001b[90m│   \u001b[39m %30 = Base.getindex(m, current_pos)\u001b[36m::UInt8\u001b[39m\n",
      "\u001b[90m│   \u001b[39m       (current_char = %30)\n",
      "\u001b[90m│   \u001b[39m       (val = %30)\n",
      "\u001b[90m│   \u001b[39m       $(Expr(:inbounds, :pop))\n",
      "\u001b[90m│   \u001b[39m       val\n",
      "\u001b[90m│   \u001b[39m %35 = current_char\u001b[36m::UInt8\u001b[39m\n",
      "\u001b[90m│   \u001b[39m %36 = Main.UInt8('\\t')\u001b[36m::Core.Const(0x09)\u001b[39m\n",
      "\u001b[90m│   \u001b[39m %37 = (%35 === %36)\u001b[36m::Bool\u001b[39m\n",
      "\u001b[90m└───\u001b[39m       goto #10 if not %37\n",
      "\u001b[90m9 ──\u001b[39m       (current_status = current_status + 1)\n",
      "\u001b[90m└───\u001b[39m       goto #16\n",
      "\u001b[90m10 ─\u001b[39m %41 = current_char\u001b[36m::UInt8\u001b[39m\n",
      "\u001b[90m│   \u001b[39m %42 = Main.UInt8('\\n')\u001b[36m::Core.Const(0x0a)\u001b[39m\n",
      "\u001b[90m│   \u001b[39m %43 = (%41 === %42)\u001b[36m::Bool\u001b[39m\n",
      "\u001b[90m└───\u001b[39m       goto #12 if not %43\n",
      "\u001b[90m11 ─\u001b[39m       (current_status = 1)\n",
      "\u001b[90m│   \u001b[39m       (max_x = Main.max(max_x, current_x))\n",
      "\u001b[90m│   \u001b[39m       (max_y = Main.max(max_y, current_y))\n",
      "\u001b[90m│   \u001b[39m       (min_x = Main.min(min_x, current_x))\n",
      "\u001b[90m│   \u001b[39m       (min_y = Main.min(min_y, current_y))\n",
      "\u001b[90m│   \u001b[39m %50 = Main.UInt(0)\u001b[36m::Core.Const(0x0000000000000000)\u001b[39m\n",
      "\u001b[90m│   \u001b[39m       (current_y = %50)\n",
      "\u001b[90m│   \u001b[39m       (current_x = %50)\n",
      "\u001b[90m└───\u001b[39m       goto #16\n",
      "\u001b[90m12 ─\u001b[39m %54 = (current_status === 1)\u001b[36m::Bool\u001b[39m\n",
      "\u001b[90m└───\u001b[39m       goto #14 if not %54\n",
      "\u001b[90m13 ─\u001b[39m %56 = current_x\u001b[36m::UInt64\u001b[39m\n",
      "\u001b[90m│   \u001b[39m %57 = current_char\u001b[36m::UInt8\u001b[39m\n",
      "\u001b[90m│   \u001b[39m %58 = Main.UInt8('0')\u001b[36m::Core.Const(0x30)\u001b[39m\n",
      "\u001b[90m│   \u001b[39m %59 = (%57 - %58)\u001b[36m::UInt8\u001b[39m\n",
      "\u001b[90m│   \u001b[39m %60 = Main.addx(%56, %59)\u001b[36m::UInt64\u001b[39m\n",
      "\u001b[90m│   \u001b[39m       (current_x = Core.typeassert(%60, Main.UInt))\n",
      "\u001b[90m└───\u001b[39m       goto #16\n",
      "\u001b[90m14 ─\u001b[39m %63 = (current_status === 2)\u001b[36m::Bool\u001b[39m\n",
      "\u001b[90m└───\u001b[39m       goto #16 if not %63\n",
      "\u001b[90m15 ─\u001b[39m %65 = current_y\u001b[36m::UInt64\u001b[39m\n",
      "\u001b[90m│   \u001b[39m %66 = current_char\u001b[36m::UInt8\u001b[39m\n",
      "\u001b[90m│   \u001b[39m %67 = Main.UInt8('0')\u001b[36m::Core.Const(0x30)\u001b[39m\n",
      "\u001b[90m│   \u001b[39m %68 = (%66 - %67)\u001b[36m::UInt8\u001b[39m\n",
      "\u001b[90m│   \u001b[39m %69 = Main.addx(%65, %68)\u001b[36m::UInt64\u001b[39m\n",
      "\u001b[90m└───\u001b[39m       (current_y = Core.typeassert(%69, Main.UInt))\n",
      "\u001b[90m16 ┄\u001b[39m       (current_pos = current_pos + 1)\n",
      "\u001b[90m└───\u001b[39m       goto #4\n",
      "\u001b[90m17 ─\u001b[39m %73 = Core.tuple(current_pos, max_x, max_y, min_x, min_y)\u001b[36m::Tuple{Int64, UInt64, UInt64, UInt64, UInt64}\u001b[39m\n",
      "\u001b[90m└───\u001b[39m       return %73\n"
     ]
    }
   ],
   "source": [
    "@code_warntype mmap_read_limit(1, 0)"
   ]
  },
  {
   "cell_type": "markdown",
   "metadata": {},
   "source": [
    "## 并行版本"
   ]
  },
  {
   "cell_type": "code",
   "execution_count": 8,
   "metadata": {},
   "outputs": [
    {
     "data": {
      "text/plain": [
       "find_line_end (generic function with 1 method)"
      ]
     },
     "execution_count": 8,
     "metadata": {},
     "output_type": "execute_result"
    }
   ],
   "source": [
    "function find_line_end_helper(m::Vector{UInt8}, start::Int)\n",
    "    \n",
    "    while start <= length(m)\n",
    "        if m[start] == UInt8('\\n')\n",
    "            break\n",
    "        else\n",
    "            start += 1\n",
    "        end\n",
    "    end\n",
    "    \n",
    "    return start\n",
    "end\n",
    "\n",
    "\n",
    "function find_line_end(m::Vector{UInt8}, chunk_size::Int)\n",
    "    l = length(m)\n",
    "    positions = Tuple{Int, Int}[]\n",
    "    start = 1\n",
    "    \n",
    "    single_size = floor(Int, l / chunk_size)\n",
    "    \n",
    "    for i = 1:chunk_size\n",
    "        new_start = start + single_size\n",
    "        if new_start > l\n",
    "            new_start = l\n",
    "        end\n",
    "        \n",
    "        new_start = find_line_end_helper(m, new_start)\n",
    "        \n",
    "        push!(positions, (start, new_start))\n",
    "        start = new_start + 1\n",
    "    end\n",
    "    positions\n",
    "end\n",
    "    "
   ]
  },
  {
   "cell_type": "code",
   "execution_count": 15,
   "metadata": {
    "collapsed": true,
    "jupyter": {
     "outputs_hidden": true
    },
    "tags": []
   },
   "outputs": [
    {
     "name": "stdout",
     "output_type": "stream",
     "text": [
      "  0.000102 seconds (19 allocations: 1.219 KiB)\n",
      "Variables\n",
      "  #self#\u001b[36m::Core.Const(find_line_end)\u001b[39m\n",
      "  m\u001b[36m::Vector{UInt8}\u001b[39m\n",
      "  chunk_size\u001b[36m::Int64\u001b[39m\n",
      "  @_4\u001b[33m\u001b[1m::Union{Nothing, Tuple{Int64, Int64}}\u001b[22m\u001b[39m\n",
      "  single_size\u001b[36m::Int64\u001b[39m\n",
      "  start\u001b[36m::Int64\u001b[39m\n",
      "  positions\u001b[36m::Vector{Tuple{Int64, Int64}}\u001b[39m\n",
      "  l\u001b[36m::Int64\u001b[39m\n",
      "  i\u001b[36m::Int64\u001b[39m\n",
      "  new_start\u001b[36m::Int64\u001b[39m\n",
      "\n",
      "Body\u001b[36m::Vector{Tuple{Int64, Int64}}\u001b[39m\n",
      "\u001b[90m1 ─\u001b[39m       (l = Main.length(m))\n",
      "\u001b[90m│  \u001b[39m %2  = Core.apply_type(Main.Tuple, Main.Int, Main.Int)\u001b[36m::Core.Const(Tuple{Int64, Int64})\u001b[39m\n",
      "\u001b[90m│  \u001b[39m       (positions = Base.getindex(%2))\n",
      "\u001b[90m│  \u001b[39m       (start = 1)\n",
      "\u001b[90m│  \u001b[39m %5  = (l / chunk_size)\u001b[36m::Float64\u001b[39m\n",
      "\u001b[90m│  \u001b[39m       (single_size = Main.floor(Main.Int, %5))\n",
      "\u001b[90m│  \u001b[39m %7  = (1:chunk_size)\u001b[36m::Core.PartialStruct(UnitRange{Int64}, Any[Core.Const(1), Int64])\u001b[39m\n",
      "\u001b[90m│  \u001b[39m       (@_4 = Base.iterate(%7))\n",
      "\u001b[90m│  \u001b[39m %9  = (@_4 === nothing)\u001b[36m::Bool\u001b[39m\n",
      "\u001b[90m│  \u001b[39m %10 = Base.not_int(%9)\u001b[36m::Bool\u001b[39m\n",
      "\u001b[90m└──\u001b[39m       goto #6 if not %10\n",
      "\u001b[90m2 ┄\u001b[39m %12 = @_4::Tuple{Int64, Int64}\u001b[36m::Tuple{Int64, Int64}\u001b[39m\n",
      "\u001b[90m│  \u001b[39m       (i = Core.getfield(%12, 1))\n",
      "\u001b[90m│  \u001b[39m %14 = Core.getfield(%12, 2)\u001b[36m::Int64\u001b[39m\n",
      "\u001b[90m│  \u001b[39m       (new_start = start + single_size)\n",
      "\u001b[90m│  \u001b[39m %16 = (new_start > l)\u001b[36m::Bool\u001b[39m\n",
      "\u001b[90m└──\u001b[39m       goto #4 if not %16\n",
      "\u001b[90m3 ─\u001b[39m       (new_start = l)\n",
      "\u001b[90m4 ┄\u001b[39m       (new_start = Main.find_line_end_helper(m, new_start))\n",
      "\u001b[90m│  \u001b[39m %20 = positions\u001b[36m::Vector{Tuple{Int64, Int64}}\u001b[39m\n",
      "\u001b[90m│  \u001b[39m %21 = Core.tuple(start, new_start)\u001b[36m::Tuple{Int64, Int64}\u001b[39m\n",
      "\u001b[90m│  \u001b[39m       Main.push!(%20, %21)\n",
      "\u001b[90m│  \u001b[39m       (start = new_start + 1)\n",
      "\u001b[90m│  \u001b[39m       (@_4 = Base.iterate(%7, %14))\n",
      "\u001b[90m│  \u001b[39m %25 = (@_4 === nothing)\u001b[36m::Bool\u001b[39m\n",
      "\u001b[90m│  \u001b[39m %26 = Base.not_int(%25)\u001b[36m::Bool\u001b[39m\n",
      "\u001b[90m└──\u001b[39m       goto #6 if not %26\n",
      "\u001b[90m5 ─\u001b[39m       goto #2\n",
      "\u001b[90m6 ┄\u001b[39m       return positions\n"
     ]
    }
   ],
   "source": [
    "@time find_line_end(get_mmap(), 1)\n",
    "@code_warntype find_line_end(get_mmap(), 1)"
   ]
  },
  {
   "cell_type": "code",
   "execution_count": 35,
   "metadata": {},
   "outputs": [
    {
     "name": "stdout",
     "output_type": "stream",
     "text": [
      " 42.203565 seconds (78.33 k allocations: 4.529 MiB, 0.17% compilation time)\n"
     ]
    },
    {
     "data": {
      "text/plain": [
       "6-element Vector{Tuple{Int64, UInt64, UInt64, UInt64, UInt64}}:\n",
       " (3761250170, 0x001a3dec0b47de7a, 0x000000000000ef42, 0x0000000000000024, 0x0000000000000000)\n",
       " (7522500355, 0x001a3dec0b47de7a, 0x000000000000ef42, 0x0000000000000024, 0x0000000000000000)\n",
       " (11283750528, 0x001a3dec0b47de7a, 0x000000000000ef42, 0x0000000000000024, 0x0000000000000000)\n",
       " (15045000713, 0x001a3dec0b47de7a, 0x000000000000ef42, 0x0000000000000024, 0x0000000000000000)\n",
       " (18806250898, 0x001a3dec0b47de7a, 0x000000000000ef42, 0x0000000000000024, 0x0000000000000000)\n",
       " (22567501017, 0x001a3dec0b47de7a, 0x000000000000ef42, 0x0000000000000024, 0x0000000000000000)"
      ]
     },
     "execution_count": 35,
     "metadata": {},
     "output_type": "execute_result"
    }
   ],
   "source": [
    "function mmap_read_limit_pmap(size::Int)\n",
    "    m = get_mmap()\n",
    "    line_ends = find_line_end(m, size)\n",
    "    pmap(i -> mmap_read_limit(i[1], i[2]), line_ends)\n",
    "end\n",
    "@time mmap_read_limit_pmap(6)"
   ]
  },
  {
   "cell_type": "code",
   "execution_count": 36,
   "metadata": {},
   "outputs": [
    {
     "ename": "LoadError",
     "evalue": "UndefVarError: colorview not defined",
     "output_type": "error",
     "traceback": [
      "UndefVarError: colorview not defined",
      "",
      "Stacktrace:",
      " [1] top-level scope",
      "   @ In[36]:2",
      " [2] eval",
      "   @ ./boot.jl:360 [inlined]",
      " [3] include_string(mapexpr::typeof(REPL.softscope), mod::Module, code::String, filename::String)",
      "   @ Base ./loading.jl:1116"
     ]
    }
   ],
   "source": [
    "arr = rand(UInt8, 3, 50, 50)\n",
    "img = colorview(RGB, arr / 255)\n"
   ]
  },
  {
   "cell_type": "code",
   "execution_count": 40,
   "metadata": {},
   "outputs": [
    {
     "ename": "LoadError",
     "evalue": "ArgumentError: Package ImageView not found in current path:\n- Run `import Pkg; Pkg.add(\"ImageView\")` to install the ImageView package.\n",
     "output_type": "error",
     "traceback": [
      "ArgumentError: Package ImageView not found in current path:\n- Run `import Pkg; Pkg.add(\"ImageView\")` to install the ImageView package.\n",
      "",
      "Stacktrace:",
      " [1] require(into::Module, mod::Symbol)",
      "   @ Base ./loading.jl:893",
      " [2] eval",
      "   @ ./boot.jl:360 [inlined]",
      " [3] include_string(mapexpr::typeof(REPL.softscope), mod::Module, code::String, filename::String)",
      "   @ Base ./loading.jl:1116"
     ]
    }
   ],
   "source": [
    "using TestImages, Images, ImageView\n",
    "img = testimage(\"mandrill\")\n",
    "imshow(img)\n"
   ]
  }
 ],
 "metadata": {
  "kernelspec": {
   "display_name": "Julia 1.6.2",
   "language": "julia",
   "name": "julia-1.6"
  },
  "language_info": {
   "file_extension": ".jl",
   "mimetype": "application/julia",
   "name": "julia",
   "version": "1.6.2"
  }
 },
 "nbformat": 4,
 "nbformat_minor": 4
}
