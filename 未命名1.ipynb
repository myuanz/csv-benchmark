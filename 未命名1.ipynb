{
 "cells": [
  {
   "cell_type": "code",
   "execution_count": 3,
   "metadata": {},
   "outputs": [],
   "source": [
    "import mmap\n",
    "import numba\n"
   ]
  },
  {
   "cell_type": "code",
   "execution_count": 4,
   "metadata": {},
   "outputs": [],
   "source": [
    "@numba.jit(nopython=True, fastmath=True)\n",
    "def func(m: mmap.mmap):\n",
    "\n",
    "    current_number = (0)\n",
    "    current_pos = 1\n",
    "    current_status = 1\n",
    "\n",
    "    l = len(m)\n",
    "\n",
    "\n",
    "    current_x = (0)\n",
    "    current_y = (0)\n",
    "    max_x = max_y = (0)\n",
    "    min_x = min_y = 999999\n",
    "\n",
    "    while current_pos < l:\n",
    "        current_char = m[current_pos]\n",
    "        if current_char == (b'\\t'[0]):\n",
    "            current_status += 1 \n",
    "        elif current_char == (b'\\n'[0]):\n",
    "            current_status = 1\n",
    "            max_x = max(max_x, current_x)\n",
    "            max_y = max(max_y, current_y)\n",
    "            min_x = min(min_x, current_x)\n",
    "            min_y = min(min_y, current_y)\n",
    "            current_x = current_y = 0\n",
    "    #         println(\"$max_x, $max_y, $min_x, $min_y\\n\")\n",
    "        else:\n",
    "            if current_status == 1:\n",
    "                current_x = current_x * 10 + (current_char - (b'0'[0]))\n",
    "            elif current_status == 2:\n",
    "                current_y = current_y * 10 + (current_char - (b'0'[0]))\n",
    "\n",
    "\n",
    "        current_pos += 1\n",
    "    #     print(\"$current_pos, $current_status, $current_x, $current_y, $(Char(current_char))\\n\")\n",
    "    #     if current_pos > 30\n",
    "    #         break\n",
    "    #     end\n",
    "    return current_pos, current_status, current_x, current_y, max_x, max_y, min_x, min_y\n",
    "\n"
   ]
  },
  {
   "cell_type": "code",
   "execution_count": 6,
   "metadata": {},
   "outputs": [
    {
     "name": "stdout",
     "output_type": "stream",
     "text": [
      "541 ms ± 2.54 ms per loop (mean ± std. dev. of 7 runs, 1 loop each)\n"
     ]
    }
   ],
   "source": [
    "f = open(\"./COX3.txt\", \"r\")\n",
    "m = mmap.mmap(f.fileno(), 0, access=mmap.ACCESS_READ)\n",
    "%timeit func(m)"
   ]
  },
  {
   "cell_type": "code",
   "execution_count": 57,
   "metadata": {},
   "outputs": [
    {
     "data": {
      "text/plain": [
       "(405206303, 1, 0, 0, 61250, 120250, 0, 14711)"
      ]
     },
     "execution_count": 57,
     "metadata": {},
     "output_type": "execute_result"
    }
   ],
   "source": [
    "func(m)"
   ]
  },
  {
   "cell_type": "code",
   "execution_count": 45,
   "metadata": {},
   "outputs": [
    {
     "name": "stdout",
     "output_type": "stream",
     "text": [
      "540 ms ± 4.97 ms per loop (mean ± std. dev. of 7 runs, 1 loop each)\n"
     ]
    }
   ],
   "source": [
    "f = open(\"./COX3.txt\", \"r\")\n",
    "m = mmap.mmap(f.fileno(), 0, access=mmap.ACCESS_READ)\n",
    "%timeit func(m)"
   ]
  },
  {
   "cell_type": "code",
   "execution_count": 54,
   "metadata": {},
   "outputs": [
    {
     "name": "stdout",
     "output_type": "stream",
     "text": [
      "540 ms ± 3.58 ms per loop (mean ± std. dev. of 7 runs, 1 loop each)\n"
     ]
    }
   ],
   "source": [
    "f = open(\"./COX3.txt\", \"r\")\n",
    "m = mmap.mmap(f.fileno(), 0, access=mmap.ACCESS_READ)\n",
    "%timeit func(m)"
   ]
  }
 ],
 "metadata": {
  "kernelspec": {
   "display_name": "Python 3 (ipykernel)",
   "language": "python",
   "name": "python3"
  },
  "language_info": {
   "codemirror_mode": {
    "name": "ipython",
    "version": 3
   },
   "file_extension": ".py",
   "mimetype": "text/x-python",
   "name": "python",
   "nbconvert_exporter": "python",
   "pygments_lexer": "ipython3",
   "version": "3.9.6"
  }
 },
 "nbformat": 4,
 "nbformat_minor": 4
}
